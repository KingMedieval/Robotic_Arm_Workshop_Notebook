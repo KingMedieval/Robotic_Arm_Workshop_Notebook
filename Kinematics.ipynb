{
 "cells": [
  {
   "cell_type": "code",
   "execution_count": 138,
   "metadata": {},
   "outputs": [],
   "source": [
    "%matplotlib inline\n",
    "import matplotlib.pylab as plt\n",
    "from matplotlib.pyplot import figure\n",
    "import numpy as np\n",
    "from ipywidgets import interact\n",
    "import sympy as sym\n",
    "sym.init_printing(True)"
   ]
  },
  {
   "cell_type": "code",
   "execution_count": null,
   "metadata": {},
   "outputs": [],
   "source": [
    "\"\"\"\n",
    "Template version for 1 arm non-matricies version\n",
    "\"\"\"\n",
    "\n",
    "# Figure size\n",
    "plt.rcParams['figure.figsize'] = [16, 8]\n",
    "\n",
    "def plotXY(x, y):\n",
    "    # Plots x = xVal, y = yVal    so an uncolored circle for (xVal, yVal)\n",
    "    plt.scatter(x, y, s=200, facecolors='none', edgecolors='r')\n",
    "    # Plots a colored circle at origin\n",
    "    plt.scatter(0, 0, s=200, facecolors='r', edgecolors='r')\n",
    "    plt.plot([0, x], [0, y])\n",
    "    plt.axis('square')\n",
    "    plt.xlim([-5.5,5.5])\n",
    "    plt.ylim([-5.5,5.5])\n",
    "    return([ x, y ])\n",
    "\n",
    "def Robot_Simulator(angle=0):\n",
    "    # Convert input angle (degrees) to radians\n",
    "    # a_radians = ...\n",
    "    length = 4\n",
    "\n",
    "    # x = ...\n",
    "    # y = ...\n",
    "    \n",
    "    return plotXY(x, y)\n",
    "    \n",
    "p = interact(Robot_Simulator, angle=(-180,180,2))"
   ]
  },
  {
   "cell_type": "code",
   "execution_count": 140,
   "metadata": {},
   "outputs": [
    {
     "data": {
      "application/vnd.jupyter.widget-view+json": {
       "model_id": "7fb384a2ab6d470dae50f0ce38b0776c",
       "version_major": 2,
       "version_minor": 0
      },
      "text/plain": [
       "interactive(children=(IntSlider(value=0, description='angle', max=180, min=-180, step=2), Output()), _dom_clas…"
      ]
     },
     "metadata": {},
     "output_type": "display_data"
    }
   ],
   "source": [
    "\"\"\"\n",
    "Correct Answer for 1 arm non-matricies version\n",
    "\"\"\"\n",
    "\n",
    "# Figure size\n",
    "plt.rcParams['figure.figsize'] = [16, 8]\n",
    "\n",
    "def plotXY(x, y):\n",
    "    # Plots x = xVal, y = yVal    so an uncolored circle for (xVal, yVal)\n",
    "    plt.scatter(x, y, s=200, facecolors='none', edgecolors='r')\n",
    "    # Plots a colored circle at origin\n",
    "    plt.scatter(0, 0, s=200, facecolors='r', edgecolors='r')\n",
    "    plt.plot([0, x], [0, y])\n",
    "    plt.axis('square')\n",
    "    plt.xlim([-5.5,5.5])\n",
    "    plt.ylim([-5.5,5.5])\n",
    "    return([ x, y ])\n",
    "\n",
    "def Robot_Simulator(angle=0):\n",
    "    a_radians = angle/180  * np.pi\n",
    "    length = 4\n",
    "\n",
    "    x = length * np.cos(a_radians)\n",
    "    y = length * np.sin(a_radians)\n",
    "    \n",
    "    return plotXY(x, y)\n",
    "    \n",
    "p = interact(Robot_Simulator, angle=(-180,180,2))"
   ]
  },
  {
   "cell_type": "code",
   "execution_count": 29,
   "metadata": {},
   "outputs": [
    {
     "data": {
      "application/vnd.jupyter.widget-view+json": {
       "model_id": "2a3fcc26ed6e49b3b5aee5d406d59180",
       "version_major": 2,
       "version_minor": 0
      },
      "text/plain": [
       "interactive(children=(IntSlider(value=0, description='q1', max=180, min=-180, step=2), Output()), _dom_classes…"
      ]
     },
     "metadata": {},
     "output_type": "display_data"
    }
   ],
   "source": [
    "\"\"\"\n",
    "Template for 1 arm matricies version\n",
    "\"\"\"\n",
    "\n",
    "# Figure size\n",
    "plt.rcParams['figure.figsize'] = [16, 8]\n",
    "\n",
    "def plotMatrix(p):\n",
    "    # Plots x = xVal, y = yVal    so an uncolored circle for (xVal, yVal)\n",
    "    plt.scatter(p[0,:].tolist()[0][0],p[1,:].tolist()[0][0], s=200, facecolors='none', edgecolors='r')\n",
    "    # Plots a colored circle at origin\n",
    "    plt.scatter(0,0, s=200, facecolors='r', edgecolors='r')\n",
    "    plt.plot(p[0,:].tolist()[0],p[1,:].tolist()[0])\n",
    "    plt.axis('square')\n",
    "    plt.xlim([-5.5,5.5])\n",
    "    plt.ylim([-5.5,5.5])\n",
    "    return([ p[0,0], p[1,0] ])\n",
    "\n",
    "def Robot_Simulator(angle=0):\n",
    "    # Convert to radians\n",
    "    # a_radians = ...\n",
    "\n",
    "    # d is a 1x2 \n",
    "    # d = ...\n",
    "\n",
    "    # R1 is a 2x2 matrix containing rotation angles\n",
    "    # R1 = ... \n",
    "    \n",
    "    p = np.concatenate( ( R1 * d, np.matrix([0,0]).T), axis=1 )\n",
    "    # output should be: [[x, 0], [y, 0]]\n",
    "    return plotMatrix(p)\n",
    "    \n",
    "p = interact(Robot_Simulator, angle=(-180,180,2))"
   ]
  },
  {
   "cell_type": "code",
   "execution_count": 130,
   "metadata": {},
   "outputs": [
    {
     "data": {
      "application/vnd.jupyter.widget-view+json": {
       "model_id": "b54ab701a79144b4bf6c36cb3d0843e6",
       "version_major": 2,
       "version_minor": 0
      },
      "text/plain": [
       "interactive(children=(IntSlider(value=0, description='angle', max=180, min=-180, step=2), Output()), _dom_clas…"
      ]
     },
     "metadata": {},
     "output_type": "display_data"
    }
   ],
   "source": [
    "\"\"\"\n",
    "Correct Answer for 1 arm matricies version \n",
    "\"\"\"\n",
    "\n",
    "# Figure size\n",
    "plt.rcParams['figure.figsize'] = [16, 8]\n",
    "\n",
    "def plotMatrix(p):\n",
    "    # Plots x = xVal, y = yVal    so an uncolored circle for (xVal, yVal)\n",
    "    plt.scatter(p[0,:].tolist()[0][0],p[1,:].tolist()[0][0], s=200, facecolors='none', edgecolors='r')\n",
    "    # Plots a colored circle at origin\n",
    "    plt.scatter(0,0, s=200, facecolors='r', edgecolors='r')\n",
    "    plt.plot(p[0,:].tolist()[0],p[1,:].tolist()[0])\n",
    "    plt.axis('square')\n",
    "    plt.xlim([-5.5,5.5])\n",
    "    plt.ylim([-5.5,5.5])\n",
    "    return([ p[0,0], p[1,0] ])\n",
    "\n",
    "def Robot_Simulator(angle=0):\n",
    "    a_radians = angle/180  * np.pi\n",
    "    d = np.matrix([0,4]).T\n",
    "    R1 = np.matrix([[np.cos(a_radians), -np.sin(a_radians)], \n",
    "                    [np.sin(a_radians),  np.cos(a_radians)]]) \n",
    "    \n",
    "    p = np.concatenate( ( R1*d, np.matrix([0,0]).T), axis=1 )\n",
    "    return plotMatrix(p)\n",
    "    \n",
    "p = interact(Robot_Simulator, angle=(-180,180,2))"
   ]
  },
  {
   "cell_type": "code",
   "execution_count": 98,
   "metadata": {},
   "outputs": [
    {
     "data": {
      "application/vnd.jupyter.widget-view+json": {
       "model_id": "adb3007839174d0caf9c13cef5dc24a5",
       "version_major": 2,
       "version_minor": 0
      },
      "text/plain": [
       "interactive(children=(IntSlider(value=0, description='angle', max=180, min=-180, step=2), Output()), _dom_clas…"
      ]
     },
     "metadata": {},
     "output_type": "display_data"
    }
   ],
   "source": [
    "\"\"\"\n",
    "Testing for 2 arm robotic arm and end effector\n",
    "\"\"\"\n",
    "\n",
    "def plotMatrix(p):\n",
    "    # Plots x = xVal, y = yVal    so an uncolored circle for (xVal, yVal)\n",
    "    plt.scatter(p[0,:].tolist()[0],p[1,:].tolist()[0], s=20, facecolors='none', edgecolors='r')\n",
    "    plt.scatter(0,0, s=20, facecolors='r', edgecolors='r')\n",
    "    plt.plot(p[0,:].tolist()[0],p[1,:].tolist()[0])\n",
    "    plt.axis('scaled')\n",
    "    plt.xlim([-8,8])\n",
    "    plt.ylim([-8,8])\n",
    "    plt.show(False)\n",
    "    return True\n",
    "\n",
    "def Robot_Simulator(angle=0):\n",
    "    a_radians = angle/180  * np.pi\n",
    "    d1 = np.matrix([4,0]).T\n",
    "    #d2 = np.matrix([4,0]).T\n",
    "    R1 = np.matrix([[np.cos(a_radians), -np.sin(a_radians)], \n",
    "                    [np.sin(a_radians),  np.cos(a_radians)]])\n",
    "\n",
    "    #print(R1 * d1)\n",
    "\n",
    "    ee = np.matrix([[0, 0], [-1, 0], [-1, 2], [0, 0], [1, 0], [1, 2], [0, 0]]).T\n",
    "\n",
    "\n",
    "    L1 = R1 * ee\n",
    "    \n",
    "    p = np.concatenate((L1, np.matrix([0,0]).T), axis=1 )\n",
    "    return plotMatrix(p)\n",
    "    \n",
    "p = interact(Robot_Simulator, angle=(-180,180,2))"
   ]
  },
  {
   "cell_type": "code",
   "execution_count": 76,
   "metadata": {},
   "outputs": [
    {
     "data": {
      "application/vnd.jupyter.widget-view+json": {
       "model_id": "20faeb6646b44155921b2d7c8665120b",
       "version_major": 2,
       "version_minor": 0
      },
      "text/plain": [
       "interactive(children=(IntSlider(value=0, description='q1', max=180, min=-180), IntSlider(value=0, description=…"
      ]
     },
     "metadata": {},
     "output_type": "display_data"
    }
   ],
   "source": [
    "\"\"\"\n",
    "For testing (Don't include in final notebook)\n",
    "\n",
    "--> maybe we move in to 3D coordinates next class\n",
    "\"\"\"\n",
    "\n",
    "from ipywidgets import interact\n",
    "\n",
    "def Robot_Simulator(q1=0,q2=-0):\n",
    "    a1 = q1/180  * np.pi\n",
    "    a2 = q2/180  * np.pi\n",
    "\n",
    "    d1 = 0.5\n",
    "    d2 = 3\n",
    "    de = 3\n",
    "    \n",
    "    target = np.matrix([-3,2, 1])\n",
    "    #print(\"target: \", target)\n",
    "\n",
    "    pe = np.matrix([[1, 0.5, 1],[0,0.5,1],[0,-0.5, 1],[1,-0.5, 1],[0,-0.5, 1],[0,0, 1]]).T\n",
    "\n",
    "    #print(\"PE: \", pe)\n",
    "\n",
    "    Je = np.matrix([[1, 0, de], \n",
    "                    [0, 1, 0], \n",
    "                    [0,0,1]]) \n",
    "\n",
    "    #print(\"JE: \", Je)\n",
    "    \n",
    "    p = np.concatenate( ( Je*pe, np.matrix([0,0,1]).T), axis=1 )    \n",
    "\n",
    "    #print(\"P: \", p)\n",
    "\n",
    "    J2 = np.matrix([[np.cos(a2), -np.sin(a2), 0], \n",
    "                    [np.sin(a2), np.cos(a2), d2], \n",
    "                    [0,0,1]]) \n",
    "\n",
    "    #print(\"J2: \", J2)\n",
    "    \n",
    "    p = np.concatenate( ( J2*p, np.matrix([0,0,1]).T), axis=1 )\n",
    "\n",
    "    #print(\"p: \", p)\n",
    "\n",
    "\n",
    "    J1 = np.matrix([[np.cos(a1), -np.sin(a1), 0], \n",
    "                    [np.sin(a1), np.cos(a1), d1], \n",
    "                    [0,0,1]]) \n",
    "    \n",
    "    #print(\"J1: \", J1)\n",
    "\n",
    "    p = np.concatenate( ( J1*p, np.matrix([0,0,1]).T), axis=1 )\n",
    "\n",
    "    #print(\"P: \")\n",
    "    #print(p)\n",
    "\n",
    "    plt.scatter(p[0,:].tolist()[0],p[1,:].tolist()[0], s=20, facecolors='none', edgecolors='r')\n",
    "    plt.scatter(0,0, s=20, facecolors='r', edgecolors='r')\n",
    "    plt.plot(p[0,:].tolist()[0],p[1,:].tolist()[0])\n",
    "    plt.plot(target[0,0], target[0,1],'*')\n",
    "    plt.axis('scaled')\n",
    "    plt.xlim([-8,8])\n",
    "    plt.ylim([-8,8])\n",
    "\n",
    "    plt.show(True)\n",
    "\n",
    "    return True\n",
    "    \n",
    "target = interact(Robot_Simulator, q1=(-180,180), q2=(-180,180));"
   ]
  },
  {
   "cell_type": "markdown",
   "metadata": {},
   "source": []
  },
  {
   "cell_type": "code",
   "execution_count": 129,
   "metadata": {},
   "outputs": [
    {
     "data": {
      "application/vnd.jupyter.widget-view+json": {
       "model_id": "a196548485c4455fbe1ad695ae925a57",
       "version_major": 2,
       "version_minor": 0
      },
      "text/plain": [
       "interactive(children=(IntSlider(value=0, description='a1', max=180, min=-180), IntSlider(value=0, description=…"
      ]
     },
     "metadata": {},
     "output_type": "display_data"
    }
   ],
   "source": [
    "\"\"\"\n",
    "Correct answer for the 2 arm version\n",
    "\"\"\"\n",
    "\n",
    "from ipywidgets import interact\n",
    "\n",
    "# Figure size\n",
    "plt.rcParams['figure.figsize'] = [16, 8]\n",
    "\n",
    "def plotMatrix(p):\n",
    "    # Plots x = xVal, y = yVal    so an uncolored circle for (xVal, yVal)\n",
    "    plt.scatter(p[0,:].tolist()[0],p[1,:].tolist()[0], s=30, facecolors='none', edgecolors='r')\n",
    "    plt.scatter(0,0, s=30, facecolors='r', edgecolors='r')\n",
    "    plt.plot(p[0,:].tolist()[0],p[1,:].tolist()[0])\n",
    "    plt.axis('scaled')\n",
    "    plt.xlim([-10,10])\n",
    "    plt.ylim([-10,10])\n",
    "\n",
    "def Robot_Simulator(a1, a2):\n",
    "    a1_radians = a1/180  * np.pi\n",
    "    a2_radians = a2/180  * np.pi\n",
    "\n",
    "    # Arms Initial position\n",
    "    d1 = np.matrix([0,4]).T\n",
    "    d2 = np.matrix([0,4]).T\n",
    "\n",
    "    # Rotation Matricies\n",
    "    R2 = np.matrix([[np.cos(a2_radians), -np.sin(a2_radians)], \n",
    "                    [np.sin(a2_radians),  np.cos(a2_radians)]])\n",
    "    R1 = np.matrix([[np.cos(a1_radians), -np.sin(a1_radians)], \n",
    "                    [np.sin(a1_radians),  np.cos(a1_radians)]])\n",
    "\n",
    "    # Resulting Positions:\n",
    "    L1 = R1 * d1\n",
    "    L2 = R2 * d2 + L1\n",
    "\n",
    "    p = np.concatenate( (L2, L1, np.matrix([0,0]).T), axis=1 )\n",
    "    return plotMatrix(p)\n",
    "    \n",
    "target = interact(Robot_Simulator, a1=(-180,180), a2=(-180,180))"
   ]
  },
  {
   "cell_type": "markdown",
   "metadata": {},
   "source": [
    "# **Now let's add an end effector!**"
   ]
  },
  {
   "cell_type": "code",
   "execution_count": 120,
   "metadata": {},
   "outputs": [
    {
     "data": {
      "application/vnd.jupyter.widget-view+json": {
       "model_id": "3452128e10284899a23918667654b828",
       "version_major": 2,
       "version_minor": 0
      },
      "text/plain": [
       "interactive(children=(IntSlider(value=0, description='a1', max=90, min=-90), IntSlider(value=0, description='a…"
      ]
     },
     "metadata": {},
     "output_type": "display_data"
    }
   ],
   "source": [
    "\"\"\"\n",
    "Correct answer for the 2 arm version with end effector\n",
    "\"\"\"\n",
    "\n",
    "from ipywidgets import interact\n",
    "\n",
    "def plotMatrix(p):\n",
    "    # Plots x = xVal, y = yVal    so an uncolored circle for (xVal, yVal)\n",
    "    plt.scatter(p[0,:].tolist()[0],p[1,:].tolist()[0], s=30, facecolors='none', edgecolors='r')\n",
    "    plt.scatter(0,0, s=30, facecolors='r', edgecolors='r')\n",
    "    plt.plot(p[0,:].tolist()[0],p[1,:].tolist()[0])\n",
    "    plt.axis('scaled')\n",
    "    plt.xlim([-12,12])\n",
    "    plt.ylim([-2,12])\n",
    "\n",
    "    return\n",
    "\n",
    "def Robot_Simulator(a1, a2, a_ee):\n",
    "    a1_radians = a1/180  * np.pi\n",
    "    a2_radians = a2/180  * np.pi\n",
    "    a_ee_rad = a_ee/180 * np.pi\n",
    "\n",
    "    # Arms Initial position\n",
    "    d1 = np.matrix([0,4]).T\n",
    "    d2 = np.matrix([0,4]).T\n",
    "    ee = np.matrix([[0, 0], [-1, 0], [-1, 2], [0, 0], [1, 0], [1, 2], [0, 0]]).T\n",
    "\n",
    "\n",
    "    # Rotation Matricies\n",
    "    R_ee = np.matrix([[np.cos(a_ee_rad), -np.sin(a_ee_rad)], \n",
    "                    [np.sin(a_ee_rad),  np.cos(a_ee_rad)]])\n",
    "\n",
    "    R2 = np.matrix([[np.cos(a2_radians), -np.sin(a2_radians)], \n",
    "                    [np.sin(a2_radians),  np.cos(a2_radians)]])\n",
    "    R1 = np.matrix([[np.cos(a1_radians), -np.sin(a1_radians)], \n",
    "                    [np.sin(a1_radians),  np.cos(a1_radians)]])\n",
    "    \n",
    "\n",
    "    # Resulting\n",
    "    L1 = R1 * d1\n",
    "\n",
    "    L2 = R2 * d2 + L1\n",
    "\n",
    "    L_ee = R_ee * ee + L2\n",
    "    \n",
    "    p = np.concatenate( (L_ee, L2, L1, np.matrix([0,0]).T), axis=1 )\n",
    "    return plotMatrix(p)\n",
    "    \n",
    "target = interact(Robot_Simulator, a1=(-90,90), a2=(-90,90), a_ee=(-90, 90))"
   ]
  },
  {
   "cell_type": "markdown",
   "metadata": {},
   "source": [
    "# **Problem statement:** \n",
    "### How do we move the end effector to a certain (x, y) position?\n",
    "\n",
    "![SegmentLocal](Inverse_Kinematics_Drawing.gif \"segment\")\n",
    "\n",
    "\n",
    "### **Solution: Inverse Kinematics!**\n",
    "\n",
    "#### It's relatively complicated... for next time :)"
   ]
  }
 ],
 "metadata": {
  "interpreter": {
   "hash": "213844a4a551d635da0f0c418d6f5aa5c2aee320fe0efa51e16cdbe6604a8495"
  },
  "kernelspec": {
   "display_name": "Python 3.7.13 ('JupyterEnv')",
   "language": "python",
   "name": "python3"
  },
  "language_info": {
   "codemirror_mode": {
    "name": "ipython",
    "version": 3
   },
   "file_extension": ".py",
   "mimetype": "text/x-python",
   "name": "python",
   "nbconvert_exporter": "python",
   "pygments_lexer": "ipython3",
   "version": "3.7.13"
  },
  "orig_nbformat": 4
 },
 "nbformat": 4,
 "nbformat_minor": 2
}
